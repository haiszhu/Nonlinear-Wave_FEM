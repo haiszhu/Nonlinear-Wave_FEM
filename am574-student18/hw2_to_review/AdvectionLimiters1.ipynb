{
 "metadata": {
  "name": ""
 },
 "nbformat": 3,
 "nbformat_minor": 0,
 "worksheets": [
  {
   "cells": [
    {
     "cell_type": "markdown",
     "metadata": {},
     "source": [
      "## Programming Problem\n",
      "- Modify the upwind code to use two ghost cells on each side rather than\n",
      "one.  Check that this gives identical results to the original code for cases\n",
      "when the time `tfinal` is large enough that the periodic boundary\n",
      "conditions play a role.  Include at least one of these tests in the notebook.\n",
      "Note that the method implemented in the next part will require two ghost cells."
     ]
    },
    {
     "cell_type": "code",
     "collapsed": false,
     "input": [
      "%pylab inline"
     ],
     "language": "python",
     "metadata": {},
     "outputs": [],
     "prompt_number": null
    },
    {
     "cell_type": "markdown",
     "metadata": {},
     "source": [
      "Original `upwind` method:"
     ]
    },
    {
     "cell_type": "code",
     "collapsed": false,
     "input": [
      "def upwind(ubar,q0,x,tfinal,nsteps):\n",
      "    dt = float(tfinal)/nsteps\n",
      "    dx = x[1] - x[0]  # assume equally spaced\n",
      "    udtdx = ubar * dt / dx\n",
      "    cfl = abs(udtdx)\n",
      "    print \"dx = %g,  dt = %g\" % (dx,dt)\n",
      "    print \"Courant number is \",cfl\n",
      "    \n",
      "    qn = hstack([0, q0, 0])   # add a ghost cell on each end\n",
      "    mx = len(x)  # number of grid cells\n",
      "    mx2 = mx+2   # number of cells with ghost cells\n",
      "    for n in range(nsteps):\n",
      "        qn[0] = qn[mx]\n",
      "        qn[mx+1] = qn[1]\n",
      "        qnp = zeros(qn.shape)   # initialize array\n",
      "        for i in range(1,mx+1):\n",
      "            if ubar > 0:\n",
      "                qnp[i] = qn[i] - udtdx * (qn[i]-qn[i-1])\n",
      "            else:\n",
      "                qnp[i] = qn[i] - udtdx * (qn[i+1]-qn[i])\n",
      "                \n",
      "        qn = qnp   # for next time step\n",
      "    qfinal = qnp[1:(mx+1)]   # throw away ghost cells\n",
      "    return qfinal"
     ],
     "language": "python",
     "metadata": {},
     "outputs": [],
     "prompt_number": null
    },
    {
     "cell_type": "markdown",
     "metadata": {},
     "source": [
      "Modified upwind method:"
     ]
    },
    {
     "cell_type": "code",
     "collapsed": false,
     "input": [
      "def upwind_modified(ubar,q0,x,tfinal,nsteps):\n",
      "    dt = float(tfinal)/nsteps\n",
      "    dx = x[1] - x[0]  # assume equally spaced\n",
      "    udtdx = ubar * dt / dx\n",
      "    cfl = abs(udtdx)\n",
      "    print \"dx = %g,  dt = %g\" % (dx,dt)\n",
      "    print \"Courant number is \",cfl\n",
      "    \n",
      "    qn = hstack([0,0, q0, 0,0])   # add two ghost cells on each end\n",
      "    mx = len(x)  # number of grid cells\n",
      "    mx4 = mx+4   # number of cells with ghost cells\n",
      "    for n in range(nsteps):\n",
      "        qn[0] = qn[mx]\n",
      "        qn[1] = qn[mx+1]\n",
      "        qn[mx+2] = qn[2]\n",
      "        qn[mx+3] = qn[3]\n",
      "        qnp = zeros(qn.shape)   # initialize array\n",
      "        for i in range(2,mx+2):\n",
      "            if ubar > 0:\n",
      "                qnp[i] = qn[i] - udtdx * (qn[i]-qn[i-1])\n",
      "            else:\n",
      "                qnp[i] = qn[i] - udtdx * (qn[i+1]-qn[i])\n",
      "                \n",
      "        qn = qnp   # for next time step\n",
      "    qfinal = qnp[2:(mx+2)]   # throw away ghost cells\n",
      "    return qfinal"
     ],
     "language": "python",
     "metadata": {},
     "outputs": [],
     "prompt_number": null
    },
    {
     "cell_type": "markdown",
     "metadata": {},
     "source": [
      "Set up the computational grid and also a much finer grid for plotting the \"exact\" solution:"
     ]
    },
    {
     "cell_type": "code",
     "collapsed": false,
     "input": [
      "mx = 50\n",
      "dx = 1./mx\n",
      "x = linspace(dx/2, 1.-dx/2, mx)  # computational grid\n",
      "xfine = linspace(0,1,5000)   # fine grid for plotting true solution"
     ],
     "language": "python",
     "metadata": {},
     "outputs": [],
     "prompt_number": null
    },
    {
     "cell_type": "markdown",
     "metadata": {},
     "source": [
      "Define the true solution as a function of (x,t). It will depend on ubar."
     ]
    },
    {
     "cell_type": "code",
     "collapsed": false,
     "input": [
      "def qtrue(x,t,ubar):\n",
      "    x0 = x - ubar*t   # trace back characteristic to time 0\n",
      "    x0 = mod(x0, 1.)  # use periodic boundary conditions to map to [0,1]\n",
      "    q = where(abs(x0-0.2) < 0.1,  3., 2.)   # piecewise constant with values 2 and 3\n",
      "    return q"
     ],
     "language": "python",
     "metadata": {},
     "outputs": [],
     "prompt_number": null
    },
    {
     "cell_type": "code",
     "collapsed": false,
     "input": [
      "ubar = 1.\n",
      "tfinal = 0.8\n",
      "nsteps = 50\n",
      "q0 = qtrue(x,0.,ubar)\n",
      "q = upwind(ubar,q0,x,tfinal,nsteps) # original upwind solution\n",
      "qm = upwind_modified(ubar,q0,x,tfinal,nsteps) # modified upwind solution\n",
      "qfine = qtrue(xfine,tfinal,ubar)  # \"exact\" solution\n",
      "\n",
      "plot(x,q, 'b-')\n",
      "plot(x,qm, 'g.')\n",
      "plot(xfine,qfine,'r-')\n",
      "legend([\"original upwind solution\",\"modified upwind solution\",\"true solution\"])\n",
      "ylim(1,4)"
     ],
     "language": "python",
     "metadata": {},
     "outputs": [],
     "prompt_number": null
    },
    {
     "cell_type": "markdown",
     "metadata": {},
     "source": [
      "    ### COMMENT:\n",
      "    Fine."
     ]
    },
    {
     "cell_type": "markdown",
     "metadata": {},
     "source": [
      "- Implement the wave limiter methods for advection, as described in \n",
      "the previous problem.   Note that it's impossible to use half-integer\n",
      "indices, so you might want to declare arrays such as `Ftilde` in which \n",
      "`Ftilde[i]` holds the correction flux $\\widetilde F_{i-1/2}$.  (This is\n",
      "the convention used in Clawpack --- the index $i$ often refers to\n",
      "information at the left edge of the cell $x_{i-1/2}$.)\n",
      "\n",
      "First let's define different limiter functions (use minmod method as an example):"
     ]
    },
    {
     "cell_type": "code",
     "collapsed": false,
     "input": [
      "def phi_minmod(theta):\n",
      "    return(max(0.,min(theta,1)))\n",
      "\n",
      "def phi_superbee(theta):\n",
      "    return(max(0.,min(1.,2.*theta),min(2.,theta)))\n",
      "\n",
      "def phi_MC(theta):\n",
      "    return(max(0.,min((1.+theta)/2.,2.,2.*theta)))\n",
      "\n",
      "def phi_van_leer(theta):\n",
      "    return((theta+abs(theta))/(1.+abs(theta)))\n",
      "\n",
      "def phi_upwind(theta):\n",
      "    return 0.\n",
      "\n",
      "def phi_lax_wendroff(theta):\n",
      "    return 1.\n",
      "\n",
      "def phi_beam_warming(theta):\n",
      "    return theta\n",
      "\n",
      "def phi_fromm(theta):\n",
      "    return 0.5*(1. + theta)"
     ],
     "language": "python",
     "metadata": {},
     "outputs": [],
     "prompt_number": null
    },
    {
     "cell_type": "markdown",
     "metadata": {},
     "source": [
      "Then obtain the wave limiter function from upwind method"
     ]
    },
    {
     "cell_type": "code",
     "collapsed": false,
     "input": [
      "def wave_limiter(ubar,q0,x,tfinal,nsteps,phi):\n",
      "    dt = float(tfinal)/nsteps\n",
      "    dx = x[1] - x[0]  # assume equally spaced\n",
      "    udtdx = ubar * dt / dx\n",
      "    cfl = abs(udtdx)\n",
      "    print \"dx = %g,  dt = %g\" % (dx,dt)\n",
      "    print \"Courant number is \",cfl\n",
      "    \n",
      "    qn = hstack([0,0, q0, 0,0])   # add two ghost cells on each end\n",
      "    mx = len(x)  # number of grid cells\n",
      "    mx4 = mx+4   # number of cells with ghost cells\n",
      "    for n in range(nsteps):\n",
      "        qn[0] = qn[mx]\n",
      "        qn[1] = qn[mx+1]\n",
      "        qn[mx+2] = qn[2]\n",
      "        qn[mx+3] = qn[3]\n",
      "        qnp = zeros(qn.shape)   # initialize array\n",
      "        for i in range(2,mx+2):\n",
      "            if ubar > 0:\n",
      "                theta1 = (qn[i-1]-qn[i-2])/(qn[i]-qn[i-1])\n",
      "                theta2 = (qn[i]-qn[i-1])/(qn[i+1]-qn[i])\n",
      "                Ftilde1 = 1./2. * (1-udtdx) * phi(theta1) * (qn[i]-qn[i-1])\n",
      "                Ftilde2 = 1./2. * (1-udtdx) * phi(theta2) * (qn[i+1]-qn[i])\n",
      "                qnp[i] = qn[i] - udtdx * (qn[i]-qn[i-1]) - udtdx * (Ftilde2-Ftilde1)\n",
      "            else:\n",
      "                theta1 = (qn[i+1]-qn[i])/(qn[i]-qn[i-1])\n",
      "                theta2 = (qn[i+2]-qn[i+1])/(qn[i+1]-qn[i])\n",
      "                Ftilde1 = 1./2. * (1+udtdx) * phi(theta1) * (qn[i]-qn[i-1])\n",
      "                Ftilde2 = 1./2. * (1+udtdx) * phi(theta2) * (qn[i+1]-qn[i])\n",
      "                qnp[i] = qn[i] - udtdx * (qn[i+1]-qn[i]) + udtdx * (Ftilde2-Ftilde1)\n",
      "                \n",
      "        qn = qnp   # for next time step\n",
      "    qfinal = qnp[2:(mx+2)]   # throw away ghost cells\n",
      "    return qfinal"
     ],
     "language": "python",
     "metadata": {},
     "outputs": [],
     "prompt_number": null
    },
    {
     "cell_type": "markdown",
     "metadata": {},
     "source": [
      "    ### COMMENT:\n",
      "    Fine. The use of Ftilde1 and Ftilde2 to save trouble from storing all flux in an array was clever."
     ]
    },
    {
     "cell_type": "code",
     "collapsed": false,
     "input": [
      "ubar = 1.\n",
      "tfinal = 0.5\n",
      "nsteps = 40\n",
      "q0 = qtrue(x,0.,ubar)\n",
      "q = wave_limiter(ubar,q0,x,tfinal,nsteps,phi_minmod)\n",
      "qfine = qtrue(xfine,tfinal,ubar)  # \"exact\" solution\n",
      "plot(x,q, 'bo')\n",
      "plot(xfine,qfine,'r-')\n",
      "ylim(1,4)"
     ],
     "language": "python",
     "metadata": {},
     "outputs": [],
     "prompt_number": null
    },
    {
     "cell_type": "markdown",
     "metadata": {},
     "source": [
      "    ### COMMENT:\n",
      "    Great. Change tfinal = 0.4. Both positive and negative ubar work flawlessly. "
     ]
    },
    {
     "cell_type": "markdown",
     "metadata": {},
     "source": [
      "- Test your function by reproducing Figures 6.2 and 6.3 from the book in your notebook.\n",
      "\n",
      "First, let's redefine true solution to match Figures 6.2 and 6.3"
     ]
    },
    {
     "cell_type": "code",
     "collapsed": false,
     "input": [
      "def qtrue_6_2(x,t,ubar):\n",
      "    beta = 200.\n",
      "    x0 = x - ubar*t   # trace back characteristic to time 0\n",
      "    x0 = mod(x0, 1.)  # use periodic boundary conditions to map to [0,1]\n",
      "    q = exp(-beta * (x0-0.3)**2)\n",
      "    q = q + where(abs(x0-0.7) < 0.1,  1., 0.)   # piecewise constant with values 2 and 3\n",
      "    return q\n",
      "\n",
      "def qtrue_6_3(x,t,ubar):\n",
      "    beta = 100.\n",
      "    freq = 80.\n",
      "    x0 = x - ubar*t   # trace back characteristic to time 0\n",
      "    x0 = mod(x0, 1.)  # use periodic boundary conditions to map to [0,1]\n",
      "    q = exp(-beta * (x0-0.5)**2)*sin(freq*x0)\n",
      "    return q"
     ],
     "language": "python",
     "metadata": {},
     "outputs": [],
     "prompt_number": null
    },
    {
     "cell_type": "markdown",
     "metadata": {},
     "source": [
      "    ### COMMENT:\n",
      "    It is good to define the true solution for all tfinal. For the purpose of reproducing figures only, I would use the initial profile, since it is exact a few periods."
     ]
    },
    {
     "cell_type": "markdown",
     "metadata": {},
     "source": [
      "Reproduce Figure 6.2 and 6.3"
     ]
    },
    {
     "cell_type": "code",
     "collapsed": false,
     "input": [
      "mx = 100\n",
      "dx = 1./mx\n",
      "xf = linspace(dx/2, 1.-dx/2, mx)  # computational grid\n",
      "\n",
      "ubar = 1.\n",
      "q0 = qtrue_6_2(xf,0.,ubar)\n",
      "qfine1 = qtrue_6_2(xfine,1.,ubar)  # \"exact\" solution at t=1\n",
      "qfine5 = qtrue_6_2(xfine,5.,ubar)  # \"exact\" solution at t=5\n",
      "\n",
      "fig, axes = subplots(3,2,figsize=(12,15))\n",
      "setp(axes,ylim=[-0.5,1.5])\n",
      "\n",
      "q = wave_limiter(ubar,q0,xf,1.,125,phi_minmod)\n",
      "axes[0,0].plot(xf,q,'bo')\n",
      "axes[0,0].plot(xfine,qfine1,'r-')\n",
      "axes[0,0].set_title('Minmod at t=1')\n",
      "\n",
      "q = wave_limiter(ubar,q0,xf,5.,625,phi_minmod)\n",
      "axes[0,1].plot(xf,q,'bo')\n",
      "axes[0,1].plot(xfine,qfine5,'r-')\n",
      "axes[0,1].set_title('Minmod at t=5')\n",
      "\n",
      "q = wave_limiter(ubar,q0,xf,1.,125,phi_superbee)\n",
      "axes[1,0].plot(xf,q,'bo')\n",
      "axes[1,0].plot(xfine,qfine1,'r-')\n",
      "axes[1,0].set_title('Superbee at t=1')\n",
      "\n",
      "q = wave_limiter(ubar,q0,xf,5.,625,phi_superbee)\n",
      "axes[1,1].plot(xf,q,'bo')\n",
      "axes[1,1].plot(xfine,qfine5,'r-')\n",
      "axes[1,1].set_title('Superbee at t=5')\n",
      "\n",
      "q = wave_limiter(ubar,q0,xf,1.,125,phi_MC)\n",
      "axes[2,0].plot(xf,q,'bo')\n",
      "axes[2,0].plot(xfine,qfine1,'r-')\n",
      "axes[2,0].set_title('MC limiter at t=1')\n",
      "\n",
      "q = wave_limiter(ubar,q0,xf,5.,625,phi_MC)\n",
      "axes[2,1].plot(xf,q,'bo')\n",
      "axes[2,1].plot(xfine,qfine5,'r-')\n",
      "axes[2,1].set_title('MC limiter at t=5')"
     ],
     "language": "python",
     "metadata": {},
     "outputs": [],
     "prompt_number": null
    },
    {
     "cell_type": "code",
     "collapsed": false,
     "input": [
      "mx = 200\n",
      "dx = 1./mx\n",
      "xf = linspace(dx/2, 1.-dx/2, mx)  # computational grid\n",
      "\n",
      "ubar = 1.\n",
      "q0 = qtrue_6_3(xf,0.,ubar)\n",
      "qfine1 = qtrue_6_3(xfine,1.,ubar)  # \"exact\" solution at t=1\n",
      "qfine10 = qtrue_6_3(xfine,10.,ubar)  # \"exact\" solution at t=10\n",
      "\n",
      "fig, axes = subplots(3,2,figsize=(12,15))\n",
      "setp(axes,ylim=[-1.,1.5])\n",
      "\n",
      "qu = upwind(ubar,q0,xf,1.,250)\n",
      "axes[0,0].plot(xf,qu,'bo')\n",
      "axes[0,0].plot(xfine,qfine1,'r-')\n",
      "axes[0,0].set_title('Upwind at t=1')\n",
      "\n",
      "qu = upwind(ubar,q0,xf,10.,2500)\n",
      "axes[0,1].plot(xf,qu,'bo')\n",
      "axes[0,1].plot(xfine,qfine10,'r-')\n",
      "axes[0,1].set_title('Upwind at t=10')\n",
      "\n",
      "qw = wave_limiter(ubar,q0,xf,1.,250,phi_lax_wendroff)\n",
      "axes[1,0].plot(xf,qw,'bo')\n",
      "axes[1,0].plot(xfine,qfine1,'r-')\n",
      "axes[1,0].set_title('Lax-Wendroff at t=1')\n",
      "\n",
      "qw = wave_limiter(ubar,q0,xf,10.,2500,phi_lax_wendroff)\n",
      "axes[1,1].plot(xf,qw,'bo')\n",
      "axes[1,1].plot(xfine,qfine10,'r-')\n",
      "axes[1,1].set_title('Lax-Wendroff at t=10')\n",
      "\n",
      "q = wave_limiter(ubar,q0,xf,1.,250,phi_superbee)\n",
      "axes[2,0].plot(xf,q,'bo')\n",
      "axes[2,0].plot(xfine,qfine1,'r-')\n",
      "axes[2,0].set_title('Superbee at t=1')\n",
      "\n",
      "q = wave_limiter(ubar,q0,xf,10.,2500,phi_superbee)\n",
      "axes[2,1].plot(xf,q,'bo')\n",
      "axes[2,1].plot(xfine,qfine10,'r-')\n",
      "axes[2,1].set_title('Superbee at t=10')"
     ],
     "language": "python",
     "metadata": {},
     "outputs": [],
     "prompt_number": null
    },
    {
     "cell_type": "markdown",
     "metadata": {},
     "source": [
      "    ### COMMENT:\n",
      "    Great. Both figures were very well plotted and labeled. "
     ]
    },
    {
     "cell_type": "markdown",
     "metadata": {},
     "source": [
      "    ### COMMENT:\n",
      "    Overall, very good. Notebook is nicely laid out. Results are presented in a clear manner."
     ]
    }
   ],
   "metadata": {}
  }
 ]
}