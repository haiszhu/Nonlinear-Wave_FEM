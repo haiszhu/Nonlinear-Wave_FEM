{
 "metadata": {
  "name": ""
 },
 "nbformat": 3,
 "nbformat_minor": 0,
 "worksheets": [
  {
   "cells": [
    {
     "cell_type": "markdown",
     "metadata": {},
     "source": [
      "# Advection tests\n",
      "\n",
      "This notebook presents an implementation of the first-order upwind method on the scalar \n",
      "advection equation  $q_t + \\bar u q_x = 0$ with periodic boundary conditions.\n",
      "\n",
      "To load numpy and matplotlib and force plots to appear inline:"
     ]
    },
    {
     "cell_type": "code",
     "collapsed": false,
     "input": [
      "%pylab inline  "
     ],
     "language": "python",
     "metadata": {},
     "outputs": [],
     "prompt_number": null
    },
    {
     "cell_type": "markdown",
     "metadata": {},
     "source": [
      "## Some Python tips\n",
      "\n",
      "See also <http://faculty.washington.edu/rjl/classes/am574w2015/python.html>\n",
      "\n",
      "- The extent of for loops, if-then-else blocks, function definitions is determined entirely by indentation.\n",
      "- Array indexes start a 0, so a list or array A with 3 elements would be indexed by `A[0], A[1], A[2]`.\n",
      "- `range(3)` gives the list [0,1,2].\n",
      "- `range(1,4`) gives the list [1,2,3].\n",
      "- If A has at least 4 elements then `A[1:4]` is a new list `[A[1], A[2], A[3]]`\n",
      "- The linspace command works as in Matlab, and returns a numpy array (not a list)\n"
     ]
    },
    {
     "cell_type": "markdown",
     "metadata": {},
     "source": [
      "## Define a function implementing the upwind method\n",
      "This function approximates the solution from time $t_0 = 0$ to some final time `tfinal` by taking `nsteps` time steps with the upwind method, applied to the advection equation $q_t + \\bar u q_x = 0$.\n",
      "\n",
      "On input, `x` is an array of cell centers and `q0` should be an array of the same length, containing the initial cell averages at time 0."
     ]
    },
    {
     "cell_type": "code",
     "collapsed": false,
     "input": [
      "def upwind(ubar,q0,x,tfinal,nsteps):\n",
      "    dt = float(tfinal)/nsteps\n",
      "    dx = x[1] - x[0]  # assume equally spaced\n",
      "    udtdx = ubar * dt / dx\n",
      "    cfl = abs(udtdx)\n",
      "    print \"dx = %g,  dt = %g\" % (dx,dt)\n",
      "    print \"Courant number is \",cfl\n",
      "    \n",
      "    qn = hstack([0, q0, 0])   # add a ghost cell on each end\n",
      "    mx = len(x)  # number of grid cells\n",
      "    mx2 = mx+2   # number of cells with ghost cells\n",
      "    for n in range(nsteps):\n",
      "        qn[0] = qn[mx]\n",
      "        qn[mx+1] = qn[1]\n",
      "        qnp = zeros(qn.shape)   # initialize array\n",
      "        for i in range(1,mx+1):\n",
      "            if ubar > 0:\n",
      "                qnp[i] = qn[i] - udtdx * (qn[i]-qn[i-1])\n",
      "            else:\n",
      "                qnp[i] = qn[i] - udtdx * (qn[i+1]-qn[i])\n",
      "                \n",
      "        qn = qnp   # for next time step\n",
      "    qfinal = qnp[1:(mx+1)]   # throw away ghost cells\n",
      "    return qfinal"
     ],
     "language": "python",
     "metadata": {},
     "outputs": [],
     "prompt_number": null
    },
    {
     "cell_type": "markdown",
     "metadata": {},
     "source": [
      "## Upwind method with 2 ghost points on each side of the boundary"
     ]
    },
    {
     "cell_type": "code",
     "collapsed": false,
     "input": [
      "def upwind2(ubar,q0,x,tfinal,nsteps):\n",
      "    dt = float(tfinal)/nsteps\n",
      "    dx = x[1] - x[0]  # assume equally spaced\n",
      "    udtdx = ubar * dt / dx\n",
      "    cfl = abs(udtdx)\n",
      "    print \"dx = %g,  dt = %g\" % (dx,dt)\n",
      "    print \"Courant number is \",cfl\n",
      "    \n",
      "    qn = hstack([0, 0, q0, 0, 0])   # add 2 ghost cell on each end\n",
      "    mx = len(x)  # number of grid cells\n",
      "    mx4 = mx+4   # number of cells with ghost cells \n",
      "    for n in range(nsteps):\n",
      "        qn[0] = qn[mx]\n",
      "        qn[1] = qn[mx+1]\n",
      "        qn[mx+2] = qn[2]\n",
      "        qn[mx+3] = qn[3]\n",
      "        qnp = zeros(qn.shape)   # initialize array\n",
      "        for i in range(1,mx+3):\n",
      "            if ubar > 0:\n",
      "                qnp[i] = qn[i] - udtdx * (qn[i]-qn[i-1])\n",
      "            else:\n",
      "                qnp[i] = qn[i] - udtdx * (qn[i+1]-qn[i])\n",
      "                \n",
      "        qn = qnp   # for next time step\n",
      "    qfinal = qnp[2:(mx+2)]   # throw away ghost cells\n",
      "    return qfinal"
     ],
     "language": "python",
     "metadata": {},
     "outputs": [],
     "prompt_number": null
    },
    {
     "cell_type": "markdown",
     "metadata": {},
     "source": [
      "    # COMMENT:\n",
      "    Fine. I would add another verication figure to compare upwind and upwind2."
     ]
    },
    {
     "cell_type": "markdown",
     "metadata": {},
     "source": [
      "## An Example of Wave-limiter method: minmod"
     ]
    },
    {
     "cell_type": "code",
     "collapsed": false,
     "input": [
      "def phi_minmod(theta):    # minmod flux-limiter function\n",
      "    return(max(0.,min(theta,1)))"
     ],
     "language": "python",
     "metadata": {},
     "outputs": [],
     "prompt_number": null
    },
    {
     "cell_type": "code",
     "collapsed": false,
     "input": [
      "def wave_limiter(ubar,q0,x,tfinal,nsteps,phi_minmod):\n",
      "    dt = float(tfinal)/nsteps\n",
      "    dx = x[1] - x[0]  # assume equally spaced\n",
      "    udtdx = ubar * dt / dx\n",
      "    cfl = abs(udtdx)\n",
      "    print \"dx = %g,  dt = %g\" % (dx,dt)\n",
      "    print \"Courant number is \",cfl\n",
      "    \n",
      "    qn = hstack([0, 0, q0, 0, 0])   # add 2 ghost cells on each end\n",
      "    mx = len(x)  # number of grid cells\n",
      "    mx4 = mx+4   # number of cells with ghost cells\n",
      "    for n in range(nsteps):\n",
      "        qn[0] = qn[mx]          # periodic mapping\n",
      "        qn[1] = qn[mx+1]\n",
      "        qn[mx+2] = qn[2]\n",
      "        qn[mx+3] = qn[3]\n",
      "        qnp = zeros(qn.shape)   # initialize array\n",
      "        Ftilde=qnp              # declare limited flux, Ftilde[i] is the flux at [i-1/2] between Q[i] and Q[i-1]\n",
      "        for i in range(1,mx+2): # calc Ftilde\n",
      "            if ubar > 0:\n",
      "                Ftilde[i]=1.0/2*abs(ubar)*(1-abs(udtdx))*phi_minmod((qn[i-1]-qn[i-2])/(qn[i]-qn[i-1]))*(qn[i]-qn[i-1])\n",
      "            else:\n",
      "                Ftilde[i]=1.0/2*abs(ubar)*(1-abs(udtdx))*phi_minmod((qn[i+1]-qn[i])/(qn[i]-qn[i-1]))*(qn[i]-qn[i-1])\n",
      "        for i in range(2,mx+2): # calc the cell on the next time level \n",
      "            if ubar > 0:\n",
      "                qnp[i] = qn[i] - udtdx * (qn[i]-qn[i-1]) - dt / dx *(Ftilde[i+1]-Ftilde[i])\n",
      "            else:\n",
      "                qnp[i] = qn[i] - udtdx * (qn[i+1]-qn[i]) - dt / dx *(Ftilde[i+1]-Ftilde[i])\n",
      "        qn = qnp   # for next time step\n",
      "    qfinal = qnp[2:(mx+2)]   # throw away ghost cells\n",
      "    return qfinal"
     ],
     "language": "python",
     "metadata": {},
     "outputs": [],
     "prompt_number": null
    },
    {
     "cell_type": "markdown",
     "metadata": {},
     "source": [
      "    # COMMENT:\n",
      "    Fine. You might want to change function input phi_minmod into phi. I realize I haven't changed mine either..."
     ]
    },
    {
     "cell_type": "markdown",
     "metadata": {},
     "source": [
      "Set up the computational grid and also a much finer grid for plotting the \"exact\" solution:"
     ]
    },
    {
     "cell_type": "code",
     "collapsed": false,
     "input": [
      "mx = 100\n",
      "dx = 1./mx\n",
      "x = linspace(dx/2, 1.-dx/2, mx)  # computational grid\n",
      "xfine = linspace(0,1,5000)   # fine grid for plotting true solution"
     ],
     "language": "python",
     "metadata": {},
     "outputs": [],
     "prompt_number": null
    },
    {
     "cell_type": "markdown",
     "metadata": {},
     "source": [
      "Define the true solution as a function of $(x,t)$.  It will depend on `ubar`.  \n",
      "\n",
      "Note how the periodic boundary conditions are imposed."
     ]
    },
    {
     "cell_type": "code",
     "collapsed": false,
     "input": [
      "def qtrue(x,t,ubar):\n",
      "    x0 = x - ubar*t   # trace back characteristic to time 0\n",
      "    x0 = mod(x0, 1.)  # use periodic boundary conditions to map to [0,1]\n",
      "    q = where(abs(x0-0.2) < 0.1,  3., 2.)   # piecewise constant with values 2 and 3\n",
      "    return q"
     ],
     "language": "python",
     "metadata": {},
     "outputs": [],
     "prompt_number": null
    },
    {
     "cell_type": "markdown",
     "metadata": {},
     "source": [
      "Plot the initial data, with blue dots for the cell averages on the computational grid and a red line for the \"exact\" data."
     ]
    },
    {
     "cell_type": "code",
     "collapsed": false,
     "input": [
      "ubar = -1.\n",
      "q0 = qtrue(x,0.,ubar)\n",
      "plot(x,q0, 'bo')\n",
      "\n",
      "q0fine = qtrue(xfine,0.,ubar)\n",
      "plot(xfine,q0fine,'r-')\n",
      "ylim(1,4)"
     ],
     "language": "python",
     "metadata": {},
     "outputs": [],
     "prompt_number": null
    },
    {
     "cell_type": "markdown",
     "metadata": {},
     "source": [
      "## Verification of the upwind, 2-ghost-point upwind and minmod\n",
      "Test the upwind method for specific values of the parameters (2 ghost point solution lies exactly on the 1 ghost point solution):"
     ]
    },
    {
     "cell_type": "code",
     "collapsed": false,
     "input": [
      "tfinal = 0.4\n",
      "nsteps = 200\n",
      "q0 = qtrue(x,0.,ubar)\n",
      "q = upwind(ubar,q0,x,tfinal,nsteps)\n",
      "q1 = upwind2(ubar,q0,x,tfinal,nsteps)  # 2 ghost point solution\n",
      "q2 = wave_limiter(ubar,q0,x,tfinal,nsteps,phi_minmod)\n",
      "qfine = qtrue(xfine,tfinal,ubar)  # \"exact\" solution\n",
      "\n",
      "#Plots\n",
      "plot(x,q, 'bo',label='upwind1')                   # 1 ghost cell upwind\n",
      "plot(x,q1, 'b-',label='upwind2')                  # 2 ghost cell upwind\n",
      "plot(x,q2, 'b*',label='minmod')                  # wave limiter with minmod \n",
      "plot(xfine,qfine,'r-',label='exact')            # exact sol\n",
      "ylim(1,5)\n",
      "legend(loc='upper right')"
     ],
     "language": "python",
     "metadata": {},
     "outputs": [],
     "prompt_number": null
    },
    {
     "cell_type": "markdown",
     "metadata": {},
     "source": [
      "    ### COMMENT:\n",
      "    Great. Both positive and negative ubar work flawlessly. "
     ]
    },
    {
     "cell_type": "markdown",
     "metadata": {},
     "source": [
      "## Try the following:\n",
      "\n",
      "- Check that this code works if `ubar` is negative and/or if the time interval is longer, so that the periodic boundary conditions play a role.\n",
      "- With `tfinal = 0.5`, try the following and make some observations about the results in each case:\n",
      "  - `nsteps = 25` (why is the result so good?)\n",
      "  - `nsteps = 24` (why is the result so bad?)\n",
      "- Write a new function `lax_friedrichs` that implements the Lax-Friedrichs method.  Try various paramter values and comment on the results.\n",
      "$$Q_i^{n+1} = \\frac 1 2 (Q_{i-1}^n  + Q_{i+1}^n) - \\frac{\\bar u \\Delta t}{2\\Delta x}(Q_{i+1}^n-Q_{i-1}^n)$$ \n",
      "- Try both upwind and Lax-Friedrichs on the initial data $q_0(x) = \\exp(-30(x-0.2)^2)$ for $0 \\leq x \\leq 1$ and comment on what you observe.\n",
      "- Implement the second-order accurate Lax-Wendroff method and try it out on these examples.\n",
      "\n",
      "$$Q_i^{n+1} = Q_i^n - \\frac{\\bar u \\Delta t}{2\\Delta x}(Q_{i+1}^n-Q_{i-1}^n) + \\frac 1 2 \\left(\\frac{\\bar u \\Delta t}{\\Delta x}\\right)^2 (Q_{i+1}^n - 2Q_i^n + Q_{i-1}^n)$$"
     ]
    },
    {
     "cell_type": "markdown",
     "metadata": {},
     "source": [
      "# Repreducing Fig. 6.2 and Fig 6.3 in the textbook as a comparison of "
     ]
    },
    {
     "cell_type": "code",
     "collapsed": false,
     "input": [
      "def qtruefig62(x,t,ubar):     # initial condition from figure 6.2\n",
      "    x0 = x - ubar*t   # trace back characteristic to time 0\n",
      "    x0 = mod(x0, 1.)  # use periodic boundary conditions to map to [0,1]\n",
      "    q = where(abs(x0-0.7) < 0.1,  1., 0.) + exp(-((x0-0.3)/0.07)**2)   # square wave and gaussian wave\n",
      "    return q"
     ],
     "language": "python",
     "metadata": {},
     "outputs": [],
     "prompt_number": null
    },
    {
     "cell_type": "code",
     "collapsed": false,
     "input": [
      "def qtruefig63(x,t,ubar):     # initial condition from figure 6.3\n",
      "    x0 = x - ubar*t   # trace back characteristic to time 0\n",
      "    x0 = mod(x0, 1.)  # use periodic boundary conditions to map to [0,1]\n",
      "    q = exp(-((x0-0.5)/0.1)**2)*sin(21*pi*x0)#where(abs(x0-0.2) < 0.1,  3., 2.)   # gaussian modulated sin wave\n",
      "    return q"
     ],
     "language": "python",
     "metadata": {},
     "outputs": [],
     "prompt_number": null
    },
    {
     "cell_type": "code",
     "collapsed": false,
     "input": [
      "def phi_lw(theta):    # Lax-Wendroff flux-limiter function\n",
      "    return(1)"
     ],
     "language": "python",
     "metadata": {},
     "outputs": [],
     "prompt_number": null
    },
    {
     "cell_type": "code",
     "collapsed": false,
     "input": [
      "def phi_superbee(theta):    # Superbee flux-limiter function\n",
      "    return(max(0.,min(2*theta,1),min(theta,2)))"
     ],
     "language": "python",
     "metadata": {},
     "outputs": [],
     "prompt_number": null
    },
    {
     "cell_type": "code",
     "collapsed": false,
     "input": [
      "def phi_mc(theta):    # MC flux-limiter function\n",
      "    return(max(0.,min((1+theta)/2.0,2,2*theta)))"
     ],
     "language": "python",
     "metadata": {},
     "outputs": [],
     "prompt_number": null
    },
    {
     "cell_type": "markdown",
     "metadata": {},
     "source": [
      "Initial condition from fig 6.2 "
     ]
    },
    {
     "cell_type": "code",
     "collapsed": false,
     "input": [
      "ubar = 1.\n",
      "q0 = qtruefig62(x,0.,ubar)\n",
      "plot(x,q0, 'bo')\n",
      "\n",
      "q0fine = qtruefig62(xfine,0.,ubar)\n",
      "plot(xfine,q0fine,'r-')\n",
      "ylim(-0.5,1.5)"
     ],
     "language": "python",
     "metadata": {},
     "outputs": [],
     "prompt_number": null
    },
    {
     "cell_type": "markdown",
     "metadata": {},
     "source": [
      "Reproduction of fig 6.2"
     ]
    },
    {
     "cell_type": "code",
     "collapsed": false,
     "input": [
      "tt=1\n",
      "tn=120\n",
      "\n",
      "figure(figsize=(14,15), dpi=100)\n",
      "subplot(3,2,1)\n",
      "tfinal = tt\n",
      "nsteps = tn\n",
      "\n",
      "q0 = qtruefig62(x,0.,ubar)\n",
      "q = upwind(ubar,q0,x,tfinal,nsteps)\n",
      "q2 = wave_limiter(ubar,q0,x,tfinal,nsteps,phi_minmod)\n",
      "qfine = qtruefig62(xfine,tfinal,ubar)  # \"exact\" solution\n",
      "\n",
      "plot(x,q, 'bo',label='upwind')\n",
      "plot(x,q2, 'b*',label='minmod')\n",
      "plot(xfine,qfine,'r-',label='exact')\n",
      "legend(loc='upper right')\n",
      "ylim(-0.5,1.5)\n",
      "title('minmod t=1')\n",
      "\n",
      "subplot(3,2,2)\n",
      "tfinal = tt*5\n",
      "nsteps = tn*5\n",
      "q0 = qtruefig62(x,0.,ubar)\n",
      "q = upwind(ubar,q0,x,tfinal,nsteps)\n",
      "q2 = wave_limiter(ubar,q0,x,tfinal,nsteps,phi_minmod)\n",
      "qfine = qtruefig62(xfine,tfinal,ubar)  # \"exact\" solution\n",
      "\n",
      "plot(x,q, 'bo',label='upwind')\n",
      "plot(x,q2, 'b*',label='minmod')\n",
      "plot(xfine,qfine,'r-',label='exact')\n",
      "legend(loc='upper right')\n",
      "ylim(-0.5,1.5)\n",
      "title('minmod t=5')\n",
      "##\n",
      "subplot(3,2,3)\n",
      "tfinal = tt\n",
      "nsteps = tn\n",
      "q0 = qtruefig62(x,0.,ubar)\n",
      "q = upwind(ubar,q0,x,tfinal,nsteps)\n",
      "q2 = wave_limiter(ubar,q0,x,tfinal,nsteps,phi_superbee)\n",
      "qfine = qtruefig62(xfine,tfinal,ubar)  # \"exact\" solution\n",
      "\n",
      "plot(x,q2, 'b*',label='Superbee')\n",
      "plot(xfine,qfine,'r-',label='exact')\n",
      "legend(loc='upper right')\n",
      "ylim(-0.5,1.5)\n",
      "title('Superbee t=1')\n",
      "\n",
      "subplot(3,2,4)\n",
      "tfinal = tt*5\n",
      "nsteps = tn*5\n",
      "q0 = qtruefig62(x,0.,ubar)\n",
      "q = upwind(ubar,q0,x,tfinal,nsteps)\n",
      "q2 = wave_limiter(ubar,q0,x,tfinal,nsteps,phi_superbee)\n",
      "qfine = qtruefig62(xfine,tfinal,ubar)  # \"exact\" solution\n",
      "\n",
      "plot(x,q2, 'b*',label='Superbee')\n",
      "plot(xfine,qfine,'r-',label='exact')\n",
      "legend(loc='upper right')\n",
      "ylim(-0.5,1.5)\n",
      "title('Superbee t=5')\n",
      "##\n",
      "subplot(3,2,5)\n",
      "tfinal = tt\n",
      "nsteps = tn\n",
      "q0 = qtruefig62(x,0.,ubar)\n",
      "q2 = wave_limiter(ubar,q0,x,tfinal,nsteps,phi_mc)\n",
      "qfine = qtruefig62(xfine,tfinal,ubar)  # \"exact\" solution\n",
      "\n",
      "plot(x,q2, 'b*',label='MC')\n",
      "plot(xfine,qfine,'r-',label='exact')\n",
      "legend(loc='upper right')\n",
      "ylim(-0.5,1.5)\n",
      "title('MC t=1')\n",
      "\n",
      "subplot(3,2,6)\n",
      "tfinal = tt*5\n",
      "nsteps = tn*5\n",
      "q0 = qtruefig62(x,0.,ubar)\n",
      "q2 = wave_limiter(ubar,q0,x,tfinal,nsteps,phi_mc)\n",
      "qfine = qtruefig62(xfine,tfinal,ubar)  # \"exact\" solution\n",
      "\n",
      "plot(x,q2, 'b*',label='MC')\n",
      "plot(xfine,qfine,'r-',label='exact')\n",
      "legend(loc='upper right')\n",
      "ylim(-0.5,1.5)\n",
      "title('MC t=5')"
     ],
     "language": "python",
     "metadata": {},
     "outputs": [],
     "prompt_number": null
    },
    {
     "cell_type": "markdown",
     "metadata": {},
     "source": [
      "Initial condition from fig 6.3"
     ]
    },
    {
     "cell_type": "code",
     "collapsed": false,
     "input": [
      "ubar = 1.\n",
      "q0 = qtruefig63(x,0.,ubar)\n",
      "plot(x,q0, 'bo')\n",
      "\n",
      "q0fine = qtruefig63(xfine,0.,ubar)\n",
      "plot(xfine,q0fine,'r-')\n",
      "ylim(-1,1.5)"
     ],
     "language": "python",
     "metadata": {},
     "outputs": [],
     "prompt_number": null
    },
    {
     "cell_type": "markdown",
     "metadata": {},
     "source": [
      "Reproduction of fig 6.3"
     ]
    },
    {
     "cell_type": "code",
     "collapsed": false,
     "input": [
      "mx = 180\n",
      "dx = 1./mx\n",
      "x = linspace(dx/2, 1.-dx/2, mx)  # computational grid\n",
      "xfine = linspace(0,1,5000)   # fine grid for plotting true solution\n",
      "tt=1\n",
      "tn=220\n",
      "\n",
      "figure(figsize=(14,20), dpi=100)\n",
      "subplot(4,2,1)\n",
      "tfinal = tt\n",
      "nsteps = tn\n",
      "\n",
      "q0 = qtruefig63(x,0.,ubar)\n",
      "q = upwind(ubar,q0,x,tfinal,nsteps)\n",
      "q2 = wave_limiter(ubar,q0,x,tfinal,nsteps,phi_minmod)\n",
      "qfine = qtruefig63(xfine,tfinal,ubar)  # \"exact\" solution\n",
      "\n",
      "plot(x,q, 'bo',label='upwind')\n",
      "plot(x,q2, 'b*',label='minmod')\n",
      "plot(xfine,qfine,'r-',label='exact')\n",
      "legend(loc='upper right')\n",
      "ylim(-1,1.5)\n",
      "title('minmod t=1')\n",
      "\n",
      "subplot(4,2,2)\n",
      "tfinal = tt*10\n",
      "nsteps = tn*10\n",
      "q0 = qtruefig63(x,0.,ubar)\n",
      "q = upwind(ubar,q0,x,tfinal,nsteps)\n",
      "q2 = wave_limiter(ubar,q0,x,tfinal,nsteps,phi_minmod)\n",
      "qfine = qtruefig63(xfine,tfinal,ubar)  # \"exact\" solution\n",
      "\n",
      "plot(x,q, 'bo',label='upwind')\n",
      "plot(x,q2, 'b*',label='minmod')\n",
      "plot(xfine,qfine,'r-',label='exact')\n",
      "legend(loc='upper right')\n",
      "ylim(-1,1.5)\n",
      "title('minmod t=10')\n",
      "##\n",
      "subplot(4,2,3)\n",
      "tfinal = tt\n",
      "nsteps = tn\n",
      "q0 = qtruefig63(x,0.,ubar)\n",
      "q2 = wave_limiter(ubar,q0,x,tfinal,nsteps,phi_lw)\n",
      "qfine = qtruefig63(xfine,tfinal,ubar)  # \"exact\" solution\n",
      "\n",
      "plot(x,q2, 'b*',label='Lax-Wendroff')\n",
      "plot(xfine,qfine,'r-',label='exact')\n",
      "legend(loc='upper right')\n",
      "ylim(-1,1.5)\n",
      "title('Lax-Wendroff t=1')\n",
      "\n",
      "subplot(4,2,4)\n",
      "tfinal = tt*10\n",
      "nsteps = tn*10\n",
      "q0 = qtruefig63(x,0.,ubar)\n",
      "q2 = wave_limiter(ubar,q0,x,tfinal,nsteps,phi_lw)\n",
      "qfine = qtruefig63(xfine,tfinal,ubar)  # \"exact\" solution\n",
      "\n",
      "plot(x,q2, 'b*',label='Lax-Wendroff')\n",
      "plot(xfine,qfine,'r-',label='exact')\n",
      "legend(loc='upper right')\n",
      "ylim(-1,1.5)\n",
      "title('Superbee t=10')\n",
      "##\n",
      "subplot(4,2,5)\n",
      "tfinal = tt\n",
      "nsteps = tn\n",
      "q0 = qtruefig63(x,0.,ubar)\n",
      "q2 = wave_limiter(ubar,q0,x,tfinal,nsteps,phi_superbee)\n",
      "qfine = qtruefig63(xfine,tfinal,ubar)  # \"exact\" solution\n",
      "\n",
      "plot(x,q2, 'b*',label='Superbee')\n",
      "plot(xfine,qfine,'r-',label='exact')\n",
      "legend(loc='upper right')\n",
      "ylim(-1,1.5)\n",
      "title('Superbee t=1')\n",
      "\n",
      "subplot(4,2,6)\n",
      "tfinal = tt*10\n",
      "nsteps = tn*10\n",
      "q0 = qtruefig63(x,0.,ubar)\n",
      "q = upwind(ubar,q0,x,tfinal,nsteps)\n",
      "q2 = wave_limiter(ubar,q0,x,tfinal,nsteps,phi_superbee)\n",
      "qfine = qtruefig63(xfine,tfinal,ubar)  # \"exact\" solution\n",
      "\n",
      "plot(x,q2, 'b*',label='Superbee')\n",
      "plot(xfine,qfine,'r-',label='exact')\n",
      "legend(loc='upper right')\n",
      "ylim(-1,1.5)\n",
      "title('Superbee t=10')\n",
      "##\n",
      "subplot(4,2,7)\n",
      "tfinal = tt\n",
      "nsteps = tn\n",
      "q0 = qtruefig63(x,0.,ubar)\n",
      "q2 = wave_limiter(ubar,q0,x,tfinal,nsteps,phi_mc)\n",
      "qfine = qtruefig63(xfine,tfinal,ubar)  # \"exact\" solution\n",
      "\n",
      "plot(x,q2, 'b*',label='MC')\n",
      "plot(xfine,qfine,'r-',label='exact')\n",
      "legend(loc='upper right')\n",
      "ylim(-1,1.5)\n",
      "title('MC t=1')\n",
      "\n",
      "subplot(4,2,8)\n",
      "tfinal = tt*10\n",
      "nsteps = tn*10\n",
      "q0 = qtruefig63(x,0.,ubar)\n",
      "q2 = wave_limiter(ubar,q0,x,tfinal,nsteps,phi_mc)\n",
      "qfine = qtruefig63(xfine,tfinal,ubar)  # \"exact\" solution\n",
      "\n",
      "plot(x,q2, 'b*',label='MC')\n",
      "plot(xfine,qfine,'r-',label='exact')\n",
      "legend(loc='upper right')\n",
      "ylim(-1,1.5)\n",
      "title('MC t=10')"
     ],
     "language": "python",
     "metadata": {},
     "outputs": [],
     "prompt_number": null
    },
    {
     "cell_type": "markdown",
     "metadata": {},
     "source": [
      "    ### COMMENT:\n",
      "    Great. Both figures were very well plotted and labeled. "
     ]
    },
    {
     "cell_type": "markdown",
     "metadata": {},
     "source": [
      "    ### COMMENT:\n",
      "    Overall, very good. Some parts belonging to the old notebook can be cleared out to have a better laid out. Results are presented in a clear manner."
     ]
    }
   ],
   "metadata": {}
  }
 ]
}