{
 "metadata": {
  "name": ""
 },
 "nbformat": 3,
 "nbformat_minor": 0,
 "worksheets": [
  {
   "cells": [
    {
     "cell_type": "markdown",
     "metadata": {},
     "source": [
      "# AdvectionLimiterss \n",
      "\n",
      "This notebook presents an implementation of upwind method for acoustics equation  $q_t + A q_x = 0$ with periodic boundary conditions by using two ghosts cells on each side. And compare it with one ghost cell version.\n",
      "\n",
      "Also implement the wave limiter methods for advection"
     ]
    },
    {
     "cell_type": "code",
     "collapsed": false,
     "input": [
      "%pylab inline"
     ],
     "language": "python",
     "metadata": {},
     "outputs": [],
     "prompt_number": null
    },
    {
     "cell_type": "markdown",
     "metadata": {},
     "source": [
      "### Modify upwind code to use two ghost cells on each side"
     ]
    },
    {
     "cell_type": "code",
     "collapsed": false,
     "input": [
      "def upwind_modified(ubar,q0,x,tfinal,nsteps):\n",
      "    dt = float(tfinal)/nsteps\n",
      "    dx = x[1] - x[0]  # assume equally spaced\n",
      "    udtdx = ubar * dt / dx\n",
      "    cfl = abs(udtdx)\n",
      "    print \"dx = %g,  dt = %g\" % (dx,dt)\n",
      "    print \"Courant number is \",cfl\n",
      "    \n",
      "    qn = hstack([0, 0, q0, 0, 0])   # add two ghost cells on each end\n",
      "    mx = len(x)  # number of grid cells\n",
      "    mx2 = mx+4   # number of cells with ghost cells\n",
      "    for n in range(nsteps):\n",
      "        qn[0] = qn[mx]\n",
      "        qn[1] = qn[mx+1]\n",
      "        qn[mx+2] = qn[2]\n",
      "        qn[mx+3] = qn[3]\n",
      "        qnp = zeros(qn.shape)   # initialize array\n",
      "        for i in range(1,mx+3):\n",
      "            if ubar > 0:\n",
      "                qnp[i] = qn[i] - udtdx * (qn[i]-qn[i-1])\n",
      "            else:\n",
      "                qnp[i] = qn[i] - udtdx * (qn[i+1]-qn[i])\n",
      "                \n",
      "        qn = qnp   # for next time step\n",
      "    qfinal = qnp[2:(mx+2)]   # throw away ghost cells\n",
      "    return qfinal"
     ],
     "language": "python",
     "metadata": {},
     "outputs": [],
     "prompt_number": null
    },
    {
     "cell_type": "markdown",
     "metadata": {},
     "source": [
      "### Original upwind code using one ghost cell on each side"
     ]
    },
    {
     "cell_type": "code",
     "collapsed": false,
     "input": [
      "def upwind(ubar,q0,x,tfinal,nsteps):\n",
      "    dt = float(tfinal)/nsteps\n",
      "    dx = x[1] - x[0]  # assume equally spaced\n",
      "    udtdx = ubar * dt / dx\n",
      "    cfl = abs(udtdx)\n",
      "    print \"dx = %g,  dt = %g\" % (dx,dt)\n",
      "    print \"Courant number is \",cfl\n",
      "    \n",
      "    qn = hstack([0, q0, 0])   # add a ghost cell on each end\n",
      "    mx = len(x)  # number of grid cells\n",
      "    mx2 = mx+2   # number of cells with ghost cells\n",
      "    for n in range(nsteps):\n",
      "        qn[0] = qn[mx]\n",
      "        qn[mx+1] = qn[1]\n",
      "        qnp = zeros(qn.shape)   # initialize array\n",
      "        for i in range(1,mx+1):\n",
      "            if ubar > 0:\n",
      "                qnp[i] = qn[i] - udtdx * (qn[i]-qn[i-1])\n",
      "            else:\n",
      "                qnp[i] = qn[i] - udtdx * (qn[i+1]-qn[i])\n",
      "                \n",
      "        qn = qnp   # for next time step\n",
      "    qfinal = qnp[1:(mx+1)]   # throw away ghost cells\n",
      "    return qfinal"
     ],
     "language": "python",
     "metadata": {},
     "outputs": [],
     "prompt_number": null
    },
    {
     "cell_type": "markdown",
     "metadata": {},
     "source": [
      "### Set up the computational grid and initial profile"
     ]
    },
    {
     "cell_type": "code",
     "collapsed": false,
     "input": [
      "mx = 50\n",
      "dx = 1./mx\n",
      "x = linspace(dx/2, 1.-dx/2, mx)  # computational grid\n",
      "qinitial = where(abs(x-0.2) < 0.1,  3., 2.) "
     ],
     "language": "python",
     "metadata": {},
     "outputs": [],
     "prompt_number": null
    },
    {
     "cell_type": "markdown",
     "metadata": {},
     "source": [
      "### Plot the initial data of modified upwind with blue dots and a red line for the original upwind."
     ]
    },
    {
     "cell_type": "code",
     "collapsed": false,
     "input": [
      "ubar = 1.\n",
      "tfinal = 1\n",
      "nsteps = 60\n",
      "q_modified = upwind_modified(ubar,qinitial,x,tfinal,nsteps)\n",
      "q = upwind(ubar,qinitial,x,tfinal,nsteps)\n",
      "\n",
      "plot(x,q_modified, 'bo')\n",
      "plot(x,q,'r-')\n",
      "ylim(1,4)"
     ],
     "language": "python",
     "metadata": {},
     "outputs": [],
     "prompt_number": null
    },
    {
     "cell_type": "markdown",
     "metadata": {},
     "source": [
      "### Wave limiter method implementation"
     ]
    },
    {
     "cell_type": "code",
     "collapsed": false,
     "input": [
      "def wave_limiter(ubar,q0,x,tfinal,nsteps,phi_minmod):\n",
      "    dt = float(tfinal)/nsteps\n",
      "    dx = x[1] - x[0]  # assume equally spaced\n",
      "    udtdx = ubar * dt / dx\n",
      "    cfl = abs(udtdx)\n",
      "    print \"dx = %g,  dt = %g\" % (dx,dt)\n",
      "    print \"Courant number is \",cfl\n",
      "    \n",
      "    qn = hstack([0, 0, q0, 0, 0])   # add two ghost cells on each end\n",
      "    mx = len(x)  # number of grid cells\n",
      "    mx2 = mx+4   # number of cells with ghost cells\n",
      "    \n",
      "    for n in range(nsteps):\n",
      "        qn[0] = qn[mx]\n",
      "        qn[1] = qn[mx+1]\n",
      "        qn[mx+2] = qn[2]\n",
      "        qn[mx+3] = qn[3]\n",
      "        qnp = zeros(qn.shape)   # initialize array\n",
      "        Ftilde = zeros(qn.shape)   # initialize correction flux\n",
      "        \n",
      "        for k in range(2,mx+3):   # Ftilde[k] corresponds to left end point of cell q[k]\n",
      "            q_delta_k = qn[k] - qn[k-1]\n",
      "            if ubar > 0:\n",
      "                q_delta_K = qn[k-1] - qn[k-2]\n",
      "            else:\n",
      "                q_delta_K = qn[k+1] - qn[k]\n",
      "            theta = q_delta_K/q_delta_k\n",
      "            Ftilde[k] = phi_minmod(theta)*q_delta_k\n",
      "            \n",
      "        for i in range(1,mx+3):\n",
      "            if ubar > 0:\n",
      "                qnp[i] = qn[i] - udtdx * (qn[i]-qn[i-1]) - udtdx/2. * (1-udtdx) * (Ftilde[i+1]-Ftilde[i])\n",
      "            else:\n",
      "                qnp[i] = qn[i] - udtdx * (qn[i+1]-qn[i]) + udtdx/2. * (1+udtdx) * (Ftilde[i+1]-Ftilde[i])\n",
      "                \n",
      "        qn = qnp   # for next time step\n",
      "    qfinal = qnp[2:(mx+2)]   # throw away ghost cells\n",
      "    return qfinal"
     ],
     "language": "python",
     "metadata": {},
     "outputs": [],
     "prompt_number": null
    },
    {
     "cell_type": "markdown",
     "metadata": {},
     "source": [
      "### Define limiters\n",
      "minmod:"
     ]
    },
    {
     "cell_type": "code",
     "collapsed": false,
     "input": [
      "def phi_minmod(theta):\n",
      "    return(max(0., min(theta,1)))"
     ],
     "language": "python",
     "metadata": {},
     "outputs": [],
     "prompt_number": null
    },
    {
     "cell_type": "markdown",
     "metadata": {},
     "source": [
      "superbee:"
     ]
    },
    {
     "cell_type": "code",
     "collapsed": false,
     "input": [
      "def phi_superbee(theta):\n",
      "    return(max(0., min(1,2*theta), min(2,theta)))"
     ],
     "language": "python",
     "metadata": {},
     "outputs": [],
     "prompt_number": null
    },
    {
     "cell_type": "markdown",
     "metadata": {},
     "source": [
      "MC:"
     ]
    },
    {
     "cell_type": "code",
     "collapsed": false,
     "input": [
      "def phi_MC(theta):\n",
      "    return(max(0., min((1+theta)/2, 2, 2*theta)))"
     ],
     "language": "python",
     "metadata": {},
     "outputs": [],
     "prompt_number": null
    },
    {
     "cell_type": "markdown",
     "metadata": {},
     "source": [
      "upwind:"
     ]
    },
    {
     "cell_type": "code",
     "collapsed": false,
     "input": [
      "def phi_upwind(theta):\n",
      "    return(0)"
     ],
     "language": "python",
     "metadata": {},
     "outputs": [],
     "prompt_number": null
    },
    {
     "cell_type": "markdown",
     "metadata": {},
     "source": [
      "Lax-Wendroff:"
     ]
    },
    {
     "cell_type": "code",
     "collapsed": false,
     "input": [
      "def phi_LW(theta):\n",
      "    return(1)"
     ],
     "language": "python",
     "metadata": {},
     "outputs": [],
     "prompt_number": null
    },
    {
     "cell_type": "markdown",
     "metadata": {},
     "source": [
      "### Reproduce Fig. 6.2\n",
      "#### Define initial profile for Fig. 6.2"
     ]
    },
    {
     "cell_type": "code",
     "collapsed": false,
     "input": [
      "mx = 100\n",
      "dx = 1./mx\n",
      "beta = 200.\n",
      "x = linspace(dx/2, 1.-dx/2, mx)  # computational grid\n",
      "q0 = exp(-beta * (x-0.3)**2)\n",
      "\n",
      "for i in range(0,mx):\n",
      "    if 0.6 < x[i] and x[i] < 0.8:\n",
      "        q0[i] = q0[i] + 1\n",
      "        \n",
      "plot(x,q0,'r-')\n",
      "ylim(-0.5,1.5)"
     ],
     "language": "python",
     "metadata": {},
     "outputs": [],
     "prompt_number": null
    },
    {
     "cell_type": "markdown",
     "metadata": {},
     "source": [
      "#### Numerical solution with high-resolution methods Fig. 6.2\n",
      "#### at t = 1  \n",
      "change last input parameter of function wave_limiter to use different limiter (Here I didn't calculate exact solution, because it should be the same as initial profile considering the interval length and wave speed.)"
     ]
    },
    {
     "cell_type": "code",
     "collapsed": false,
     "input": [
      "f, axarr = plt.subplots(3,2,figsize=(12,16))\n",
      "#ubar = -1.\n",
      "ubar = 1.\n",
      "\n",
      "tfinal_1 = 1\n",
      "nsteps_1 = 120\n",
      "\n",
      "q_minmod_1 = wave_limiter(ubar,q0,x,tfinal_1,nsteps_1,phi_minmod)\n",
      "axarr[0, 0].plot(x,q_minmod_1,'bo')\n",
      "axarr[0, 0].plot(x,q0,'r-')\n",
      "axarr[0, 0].set_title('Minmod at t = 1')\n",
      "axarr[0, 0].set_ylim(-0.5,1.5)\n",
      "\n",
      "q_superbee_1 = wave_limiter(ubar,q0,x,tfinal_1,nsteps_1,phi_superbee)\n",
      "axarr[1, 0].plot(x,q_superbee_1,'bo')\n",
      "axarr[1, 0].plot(x,q0,'r-')\n",
      "axarr[1, 0].set_title('Superbee at t = 1')\n",
      "axarr[1, 0].set_ylim(-0.5,1.5)\n",
      "\n",
      "q_MC_1 = wave_limiter(ubar,q0,x,tfinal_1,nsteps_1,phi_MC)\n",
      "axarr[2, 0].plot(x,q_MC_1,'bo')\n",
      "axarr[2, 0].plot(x,q0,'r-')\n",
      "axarr[2, 0].set_title('MC limiter at t = 1')\n",
      "axarr[2, 0].set_ylim(-0.5,1.5)\n",
      "\n",
      "tfinal_2 = 5\n",
      "nsteps_2 = 600\n",
      "\n",
      "q_minmod_2 = wave_limiter(ubar,q0,x,tfinal_2,nsteps_2,phi_minmod)\n",
      "axarr[0, 1].plot(x,q_minmod_2,'bo')\n",
      "axarr[0, 1].plot(x,q0,'r-')\n",
      "axarr[0, 1].set_title('Minmod at t = 5')\n",
      "axarr[0, 1].set_ylim(-0.5,1.5)\n",
      "\n",
      "q_superbee_2 = wave_limiter(ubar,q0,x,tfinal_2,nsteps_2,phi_superbee)\n",
      "axarr[1, 1].plot(x,q_superbee_2,'bo')\n",
      "axarr[1, 1].plot(x,q0,'r-')\n",
      "axarr[1, 1].set_title('Superbee at t = 5')\n",
      "axarr[1, 1].set_ylim(-0.5,1.5)\n",
      "\n",
      "q_MC_2 = wave_limiter(ubar,q0,x,tfinal_2,nsteps_2,phi_MC)\n",
      "axarr[2, 1].plot(x,q_MC_2,'bo')\n",
      "axarr[2, 1].plot(x,q0,'r-')\n",
      "axarr[2, 1].set_title('MC limiter at t = 5')\n",
      "axarr[2, 1].set_ylim(-0.5,1.5)"
     ],
     "language": "python",
     "metadata": {},
     "outputs": [],
     "prompt_number": null
    },
    {
     "cell_type": "markdown",
     "metadata": {},
     "source": [
      "### Reproduce Fig. 6.3\n",
      "#### Define initial profile for Fig. 6.3"
     ]
    },
    {
     "cell_type": "code",
     "collapsed": false,
     "input": [
      "mx = 200\n",
      "dx = 1./mx\n",
      "beta = 100.\n",
      "freq = 80.\n",
      "x = linspace(dx/2, 1.-dx/2, mx)  # computational grid\n",
      "q0 = exp(-beta * (x-0.5)**2) * sin(freq*x)\n",
      "        \n",
      "plot(x,q0,'r-')\n",
      "ylim(-1.0,1.5)"
     ],
     "language": "python",
     "metadata": {},
     "outputs": [],
     "prompt_number": null
    },
    {
     "cell_type": "markdown",
     "metadata": {},
     "source": [
      "### Numerical solution with high-resolution methods Fig. 6.3\n",
      "#### at t = 1 "
     ]
    },
    {
     "cell_type": "code",
     "collapsed": false,
     "input": [
      "f, axarr = plt.subplots(3,2,figsize=(12,16))\n",
      "#ubar = -1.\n",
      "ubar = 1.\n",
      "\n",
      "tfinal_1 = 1\n",
      "nsteps_1 = 240\n",
      "\n",
      "q_minmod_1 = wave_limiter(ubar,q0,x,tfinal_1,nsteps_1,phi_upwind)\n",
      "axarr[0, 0].plot(x,q_minmod_1,'bo')\n",
      "axarr[0, 0].plot(x,q0,'r-')\n",
      "axarr[0, 0].set_title('Upwind at t = 1')\n",
      "axarr[0, 0].set_ylim(-1.0,1.5)\n",
      "\n",
      "q_superbee_1 = wave_limiter(ubar,q0,x,tfinal_1,nsteps_1,phi_LW)\n",
      "axarr[1, 0].plot(x,q_superbee_1,'bo')\n",
      "axarr[1, 0].plot(x,q0,'r-')\n",
      "axarr[1, 0].set_title('Law-Wendroff at t = 1')\n",
      "axarr[1, 0].set_ylim(-1.0,1.5)\n",
      "\n",
      "q_MC_1 = wave_limiter(ubar,q0,x,tfinal_1,nsteps_1,phi_superbee)\n",
      "axarr[2, 0].plot(x,q_MC_1,'bo')\n",
      "axarr[2, 0].plot(x,q0,'r-')\n",
      "axarr[2, 0].set_title('Superbee at t = 1')\n",
      "axarr[2, 0].set_ylim(-1.0,1.5)\n",
      "\n",
      "tfinal_2 = 10\n",
      "nsteps_2 = 2400\n",
      "\n",
      "q_minmod_2 = wave_limiter(ubar,q0,x,tfinal_2,nsteps_2,phi_upwind)\n",
      "axarr[0, 1].plot(x,q_minmod_2,'bo')\n",
      "axarr[0, 1].plot(x,q0,'r-')\n",
      "axarr[0, 1].set_title('Upwind at t = 10')\n",
      "axarr[0, 1].set_ylim(-1.0,1.5)\n",
      "\n",
      "q_superbee_2 = wave_limiter(ubar,q0,x,tfinal_2,nsteps_2,phi_LW)\n",
      "axarr[1, 1].plot(x,q_superbee_2,'bo')\n",
      "axarr[1, 1].plot(x,q0,'r-')\n",
      "axarr[1, 1].set_title('Lax-Wendroff at t = 10')\n",
      "axarr[1, 1].set_ylim(-1.0,1.5)\n",
      "\n",
      "q_MC_2 = wave_limiter(ubar,q0,x,tfinal_2,nsteps_2,phi_superbee)\n",
      "axarr[2, 1].plot(x,q_MC_2,'bo')\n",
      "axarr[2, 1].plot(x,q0,'r-')\n",
      "axarr[2, 1].set_title('Superbee at t = 10')\n",
      "axarr[2, 1].set_ylim(-1.0,1.5)"
     ],
     "language": "python",
     "metadata": {},
     "outputs": [],
     "prompt_number": null
    },
    {
     "cell_type": "markdown",
     "metadata": {},
     "source": [
      "### COMMENT:\n",
      "The results matches the figures in the textbook. But loops could be used to generate the plots to reduce the length of the code."
     ]
    }
   ],
   "metadata": {}
  }
 ]
}